{
 "cells": [
  {
   "cell_type": "markdown",
   "metadata": {},
   "source": [
    "# Pricing research — Van Westendorp’s Price Sensitivity Meter in Python\n",
    "*Survey design and analysis in Python*\n",
    "\n",
    "## Survey\n",
    "Van Westendorp’s price sensitivity meter is designed to investigate customer price preferences. The price sensitivity meter survey consists of four questions asking each survey participants to provide four price points of the product when the product is:\n",
    "- Too cheap (i.e., so inexpensive)\n",
    "- Cheap (i.e., a bargain)\n",
    "- Expensive\n",
    "- Too expensive\n",
    "An example of the four questions shows as follows:\n",
    "\n",
    "![](price_sensitivity.png)\n",
    "*Source: Qualtrics*\n",
    "\n",
    "## Data\n",
    "Assuming 20 participants have filled in the survey. Let’s first import needed libraries and read in data from these 20 participants."
   ]
  },
  {
   "cell_type": "code",
   "execution_count": null,
   "metadata": {},
   "outputs": [],
   "source": [
    "\n",
    "import pandas as pd\n",
    "import hvplot.pandas \n",
    "import holoviews as hv\n",
    "\n",
    "prices = {'Too Cheap': [100,120,200,200,300,100,100,300,100,350,340,450,100,257,109,109,280,400,250,200],\n",
    "          'Cheap': [150,200,250,300,340,190,200,350,120,360,360,460,110,388,299,129,350,410,260,240],\n",
    "          'Expensive': [400,400,450,350,400,200,300,370,180,370,490,490,130,433,399,149,400,420,270,280],\n",
    "          'Too Expensive': [500,480,500,400,490,300,500,380,200,380,500,500,140,499,422,199,410,430,280,300],\n",
    "        }\n",
    "\n",
    "df = pd.DataFrame(prices)"
   ]
  },
  {
   "cell_type": "markdown",
   "metadata": {},
   "source": [
    "The first five rows of the data frame look like this:"
   ]
  },
  {
   "cell_type": "code",
   "execution_count": null,
   "metadata": {},
   "outputs": [],
   "source": [
    "df.head()"
   ]
  },
  {
   "cell_type": "markdown",
   "metadata": {},
   "source": [
    "## Analysis\n",
    "Here I wrote a function to calculate the cumulative percentage of the four questions (Too Cheap, Cheap, Expensive, Too Expensive), plot the four lines, and report on the optimal price and acceptable price range."
   ]
  },
  {
   "cell_type": "code",
   "execution_count": null,
   "metadata": {},
   "outputs": [],
   "source": [
    "def price_sensitivity_meter(df, interpolate=False):\n",
    "    # convert data from wide to long\n",
    "    # calculate frequency of each price for each group\n",
    "    df1 = (df[['Too Cheap', 'Cheap', 'Expensive', 'Too Expensive']]\n",
    "             .unstack()\n",
    "             .reset_index()\n",
    "             .rename(columns = {'level_0':'label', 0: 'prices'})[['label','prices']]\n",
    "             .groupby(['label','prices'])\n",
    "             .size()\n",
    "             .reset_index()\n",
    "             .rename(columns = {0: 'frequency'})\n",
    "            )\n",
    "    # calculate cumsum percentages\n",
    "    df1['cumsum'] = df1.groupby(['label'])['frequency'].cumsum()\n",
    "    df1['sum'] = df1.groupby(['label'])['frequency'].transform('sum')\n",
    "    df1['percentage'] = 100*df1['cumsum']/df1['sum']\n",
    "    # convert data from long back to wide\n",
    "    df2 = df1.pivot_table('percentage', 'prices', 'label')\n",
    "    \n",
    "    # take linear values in missing values\n",
    "    if interpolate:\n",
    "        df3 = df2.interpolate().fillna(0)\n",
    "        df3['Too Cheap'] = 100 - df3['Too Cheap']\n",
    "        df3['Cheap'] = 100 - df3['Cheap']\n",
    "        plot = df3.hvplot(x='prices', \n",
    "                          y=['Too Cheap', 'Cheap', 'Expensive', 'Too Expensive'],\n",
    "                          ylabel = 'Percentage',\n",
    "                          height=400,\n",
    "                          color=['green','lightgreen','lightpink','crimson']\n",
    "                              ).opts(legend_position='bottom')\n",
    "    \n",
    "    # forward fill \n",
    "    else: \n",
    "        df3 = df2.ffill().fillna(0)\n",
    "        \n",
    "        df3['Too Cheap'] = 100 - df3['Too Cheap']\n",
    "        df3['Cheap'] = 100 - df3['Cheap']\n",
    "        plot = df3.hvplot.step(x='prices', \n",
    "                               y=['Too Cheap', 'Cheap', 'Expensive', 'Too Expensive'],\n",
    "                               where='post',\n",
    "                               ylabel = 'Percentage',\n",
    "                               height=400,\n",
    "                               color=['green','lightgreen','lightpink','crimson']\n",
    "                              ).opts(legend_position='bottom')\n",
    "    df3['optimal_diff'] = (df3['Too Cheap'] - df3['Too Expensive'])\n",
    "    df3['left_diff'] = (df3['Too Cheap'] - df3['Expensive'])\n",
    "    df3['right_diff'] = (df3['Too Expensive'] - df3['Cheap'])\n",
    "    optimal = df3[df3['optimal_diff']<=0].index[0]\n",
    "    lower_bound = df3[df3['left_diff']<=0].index[0]\n",
    "    upper_bound = df3[df3['right_diff']>=0].index[0]\n",
    "    \n",
    "\n",
    "    optimal_line = hv.VLine(optimal).opts(color='blue', line_dash='dashed', line_width=0.4)\n",
    "\n",
    "    lower_line = hv.VLine(lower_bound).opts(color='grey', line_dash='dashed', line_width=0.4)\n",
    "    upper_line = hv.VLine(upper_bound).opts(color='grey', line_dash='dashed', line_width=0.4)\n",
    "\n",
    "    \n",
    "    print(f'Optimal Price: ${optimal}')\n",
    "    print(f'Acceptable Price Range: ${lower_bound} to ${upper_bound}')\n",
    "    \n",
    "    return plot * lower_line * optimal_line * upper_line"
   ]
  },
  {
   "cell_type": "markdown",
   "metadata": {},
   "source": [
    "Here is the output when we run `price_sensitivity_meter(df)`. The x-axis shows the price points, the y-axis shows the percentage of the cumulative frequencies of the prices. If you would like the plot to be more smooth, you can set `interpolate=True`. The default value of interpolate is False in our function."
   ]
  },
  {
   "cell_type": "code",
   "execution_count": null,
   "metadata": {},
   "outputs": [],
   "source": [
    "price_sensitivity_meter(df)"
   ]
  },
  {
   "cell_type": "markdown",
   "metadata": {},
   "source": [
    "## The key results are:\n",
    "- Optimal price point (OPP)\n",
    "\n",
    "The intersection of “Too Cheap” and “Too Expensive”. In our example, the optimal price is \\$300.\n",
    "\n",
    "- Acceptable price range\n",
    "\n",
    "The lower bound (aka. point of marginal cheapness or PMC) is the intersection of “Too Cheap” and “Expensive”. The upper bound (aka. point of marginal expensiveness or PME.) is the intersection of “Cheap” and “Too Expensive”. In our example, the acceptable price range is \\$280 to \\$350.\n",
    "\n",
    "## Validating results with Qualtrics\n",
    "To make sure our results are correct, I validated my results with Qualtrics. With the same data, Qualtrics produces the following report:\n",
    "![](price_sensitivity2.png)\n",
    "\n",
    "The optimal price is the same as our result. Both show \\\\$300 as the optimal price. The acceptable price range is different but very close. We got \\$280 to \\$350, while Qualtrics reported \\$280.1 to \\$350.0. (I am not sure why Qualtrics has a slope in each step in the plot. The vertical lines between steps are not straight. I suspect that with large data size, the vertical lines will become straight.)\n",
    "\n",
    "Now you can design your own Price Sensitivity Meter survey and analyze results in Python. Enjoy!\n",
    "\n",
    "\n",
    "By Sophia Yang on [October 2, 2020](https://towardsdatascience.com/pricing-research-van-westendorps-price-sensitivity-meter-in-python-ec07fabbeacd)."
   ]
  }
 ],
 "metadata": {
  "kernelspec": {
   "display_name": "Python 3",
   "language": "python",
   "name": "python3"
  },
  "language_info": {
   "codemirror_mode": {
    "name": "ipython",
    "version": 3
   },
   "file_extension": ".py",
   "mimetype": "text/x-python",
   "name": "python",
   "nbconvert_exporter": "python",
   "pygments_lexer": "ipython3",
   "version": "3.7.7"
  }
 },
 "nbformat": 4,
 "nbformat_minor": 4
}
